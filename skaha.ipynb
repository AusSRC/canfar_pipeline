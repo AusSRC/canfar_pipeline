{
 "cells": [
  {
   "cell_type": "markdown",
   "id": "5a6c8acc-004f-4add-85ae-9a275ff1eb23",
   "metadata": {},
   "source": [
    "## Skaha API example"
   ]
  },
  {
   "cell_type": "code",
   "execution_count": 1,
   "id": "0c3013c8-1dcb-49bd-96aa-cc848ba7eef5",
   "metadata": {},
   "outputs": [],
   "source": [
    "!export PYTHONWARNINGS=ignore"
   ]
  },
  {
   "cell_type": "code",
   "execution_count": 5,
   "id": "f9557fc7-1ed6-4a76-828a-a0acca825e36",
   "metadata": {},
   "outputs": [],
   "source": [
    "from skaha.images import Images\n",
    "from skaha.session import Session\n",
    "\n",
    "# Specify CADC certificate\n",
    "CERTIFICATE = '/Users/she393/.ssl/cadcproxy.pem'\n",
    "\n",
    "session = Session(certificate=CERTIFICATE)\n",
    "images = Images()"
   ]
  },
  {
   "cell_type": "code",
   "execution_count": null,
   "id": "090447eb-34c0-4b27-ba03-054a71a3ddf7",
   "metadata": {
    "scrolled": true
   },
   "outputs": [],
   "source": [
    "# Fetch images\n",
    "\n",
    "images.fetch(kind='headless')"
   ]
  },
  {
   "cell_type": "code",
   "execution_count": null,
   "id": "8fb1a298-0030-45c6-8e37-47f85ad18aa3",
   "metadata": {},
   "outputs": [],
   "source": [
    "# Submitting a job\n",
    "\n",
    "params = {\n",
    "    'image': 'images.canfar.net/srcnet/sofia2:v2.6.0',\n",
    "    'name': 'sofia-test',\n",
    "    'cmd': 'sleep 5m',\n",
    "    'env': {'NAME': 'sofia-test'}\n",
    "}\n",
    "session_ids = session.create(**params)\n",
    "session_ids"
   ]
  },
  {
   "cell_type": "code",
   "execution_count": 9,
   "id": "518ae260-5f27-4f34-83c5-0074c8d2793e",
   "metadata": {},
   "outputs": [
    {
     "ename": "RuntimeError",
     "evalue": "This event loop is already running",
     "output_type": "error",
     "traceback": [
      "\u001b[0;31m---------------------------------------------------------------------------\u001b[0m",
      "\u001b[0;31mRuntimeError\u001b[0m                              Traceback (most recent call last)",
      "Cell \u001b[0;32mIn[9], line 4\u001b[0m\n\u001b[1;32m      1\u001b[0m \u001b[38;5;66;03m# Get session info \u001b[39;00m\n\u001b[1;32m      3\u001b[0m session_id \u001b[38;5;241m=\u001b[39m [\u001b[38;5;124m'\u001b[39m\u001b[38;5;124myjhh2uc4\u001b[39m\u001b[38;5;124m'\u001b[39m]\n\u001b[0;32m----> 4\u001b[0m res \u001b[38;5;241m=\u001b[39m \u001b[43msession\u001b[49m\u001b[38;5;241;43m.\u001b[39;49m\u001b[43minfo\u001b[49m\u001b[43m(\u001b[49m\u001b[43msession_id\u001b[49m\u001b[43m)\u001b[49m\n\u001b[1;32m      5\u001b[0m \u001b[38;5;28mprint\u001b[39m(res)\n",
      "File \u001b[0;32m~/Documents/canfar/venv/lib/python3.9/site-packages/skaha/session.py:144\u001b[0m, in \u001b[0;36mSession.info\u001b[0;34m(self, ids)\u001b[0m\n\u001b[1;32m    142\u001b[0m     arguments\u001b[38;5;241m.\u001b[39mappend({\u001b[38;5;124m\"\u001b[39m\u001b[38;5;124murl\u001b[39m\u001b[38;5;124m\"\u001b[39m: \u001b[38;5;124mf\u001b[39m\u001b[38;5;124m\"\u001b[39m\u001b[38;5;132;01m{\u001b[39;00m\u001b[38;5;28mself\u001b[39m\u001b[38;5;241m.\u001b[39mserver\u001b[38;5;132;01m}\u001b[39;00m\u001b[38;5;124m/\u001b[39m\u001b[38;5;132;01m{\u001b[39;00mvalue\u001b[38;5;132;01m}\u001b[39;00m\u001b[38;5;124m\"\u001b[39m, \u001b[38;5;124m\"\u001b[39m\u001b[38;5;124mparams\u001b[39m\u001b[38;5;124m\"\u001b[39m: parameters})\n\u001b[1;32m    143\u001b[0m loop \u001b[38;5;241m=\u001b[39m get_event_loop()\n\u001b[0;32m--> 144\u001b[0m results \u001b[38;5;241m=\u001b[39m \u001b[43mloop\u001b[49m\u001b[38;5;241;43m.\u001b[39;49m\u001b[43mrun_until_complete\u001b[49m\u001b[43m(\u001b[49m\u001b[43mscale\u001b[49m\u001b[43m(\u001b[49m\u001b[38;5;28;43mself\u001b[39;49m\u001b[38;5;241;43m.\u001b[39;49m\u001b[43msession\u001b[49m\u001b[38;5;241;43m.\u001b[39;49m\u001b[43mget\u001b[49m\u001b[43m,\u001b[49m\u001b[43m \u001b[49m\u001b[43marguments\u001b[49m\u001b[43m)\u001b[49m\u001b[43m)\u001b[49m\n\u001b[1;32m    145\u001b[0m responses: List[Dict[\u001b[38;5;28mstr\u001b[39m, Any]] \u001b[38;5;241m=\u001b[39m []\n\u001b[1;32m    146\u001b[0m \u001b[38;5;28;01mfor\u001b[39;00m response \u001b[38;5;129;01min\u001b[39;00m results:\n",
      "File \u001b[0;32m/Applications/Xcode.app/Contents/Developer/Library/Frameworks/Python3.framework/Versions/3.9/lib/python3.9/asyncio/base_events.py:618\u001b[0m, in \u001b[0;36mBaseEventLoop.run_until_complete\u001b[0;34m(self, future)\u001b[0m\n\u001b[1;32m    607\u001b[0m \u001b[38;5;250m\u001b[39m\u001b[38;5;124;03m\"\"\"Run until the Future is done.\u001b[39;00m\n\u001b[1;32m    608\u001b[0m \n\u001b[1;32m    609\u001b[0m \u001b[38;5;124;03mIf the argument is a coroutine, it is wrapped in a Task.\u001b[39;00m\n\u001b[0;32m   (...)\u001b[0m\n\u001b[1;32m    615\u001b[0m \u001b[38;5;124;03mReturn the Future's result, or raise its exception.\u001b[39;00m\n\u001b[1;32m    616\u001b[0m \u001b[38;5;124;03m\"\"\"\u001b[39;00m\n\u001b[1;32m    617\u001b[0m \u001b[38;5;28mself\u001b[39m\u001b[38;5;241m.\u001b[39m_check_closed()\n\u001b[0;32m--> 618\u001b[0m \u001b[38;5;28;43mself\u001b[39;49m\u001b[38;5;241;43m.\u001b[39;49m\u001b[43m_check_running\u001b[49m\u001b[43m(\u001b[49m\u001b[43m)\u001b[49m\n\u001b[1;32m    620\u001b[0m new_task \u001b[38;5;241m=\u001b[39m \u001b[38;5;129;01mnot\u001b[39;00m futures\u001b[38;5;241m.\u001b[39misfuture(future)\n\u001b[1;32m    621\u001b[0m future \u001b[38;5;241m=\u001b[39m tasks\u001b[38;5;241m.\u001b[39mensure_future(future, loop\u001b[38;5;241m=\u001b[39m\u001b[38;5;28mself\u001b[39m)\n",
      "File \u001b[0;32m/Applications/Xcode.app/Contents/Developer/Library/Frameworks/Python3.framework/Versions/3.9/lib/python3.9/asyncio/base_events.py:578\u001b[0m, in \u001b[0;36mBaseEventLoop._check_running\u001b[0;34m(self)\u001b[0m\n\u001b[1;32m    576\u001b[0m \u001b[38;5;28;01mdef\u001b[39;00m \u001b[38;5;21m_check_running\u001b[39m(\u001b[38;5;28mself\u001b[39m):\n\u001b[1;32m    577\u001b[0m     \u001b[38;5;28;01mif\u001b[39;00m \u001b[38;5;28mself\u001b[39m\u001b[38;5;241m.\u001b[39mis_running():\n\u001b[0;32m--> 578\u001b[0m         \u001b[38;5;28;01mraise\u001b[39;00m \u001b[38;5;167;01mRuntimeError\u001b[39;00m(\u001b[38;5;124m'\u001b[39m\u001b[38;5;124mThis event loop is already running\u001b[39m\u001b[38;5;124m'\u001b[39m)\n\u001b[1;32m    579\u001b[0m     \u001b[38;5;28;01mif\u001b[39;00m events\u001b[38;5;241m.\u001b[39m_get_running_loop() \u001b[38;5;129;01mis\u001b[39;00m \u001b[38;5;129;01mnot\u001b[39;00m \u001b[38;5;28;01mNone\u001b[39;00m:\n\u001b[1;32m    580\u001b[0m         \u001b[38;5;28;01mraise\u001b[39;00m \u001b[38;5;167;01mRuntimeError\u001b[39;00m(\n\u001b[1;32m    581\u001b[0m             \u001b[38;5;124m'\u001b[39m\u001b[38;5;124mCannot run the event loop while another loop is running\u001b[39m\u001b[38;5;124m'\u001b[39m)\n",
      "\u001b[0;31mRuntimeError\u001b[0m: This event loop is already running"
     ]
    }
   ],
   "source": [
    "# Get session info \n",
    "\n",
    "session_id = ['yjhh2uc4']\n",
    "res = session.info(session_id)\n",
    "print(res)"
   ]
  },
  {
   "cell_type": "code",
   "execution_count": 6,
   "id": "7e539bd6-a4bb-47d5-b4e6-fe2a3f58802f",
   "metadata": {},
   "outputs": [
    {
     "data": {
      "text/plain": [
       "{'instances': {'session': 134, 'desktopApp': 30, 'headless': 72, 'total': 236},\n",
       " 'cores': {'requestedCPUCores': 999.5,\n",
       "  'cpuCoresAvailable': 2110.0,\n",
       "  'maxCPUCores': {'cpuCores': 64.0, 'withRam': '241.049G'}},\n",
       " 'ram': {'requestedRAM': '6284G',\n",
       "  'ramAvailable': '9603.04G',\n",
       "  'maxRAM': {'ram': '241.049G', 'withCPUCores': 64.0}}}"
      ]
     },
     "execution_count": 6,
     "metadata": {},
     "output_type": "execute_result"
    }
   ],
   "source": [
    "# Get session stats \n",
    "\n",
    "session.stats()"
   ]
  },
  {
   "cell_type": "code",
   "execution_count": null,
   "id": "e08216d4-7ecb-48fb-b1e7-ab2ad0eabac4",
   "metadata": {},
   "outputs": [],
   "source": []
  }
 ],
 "metadata": {
  "kernelspec": {
   "display_name": "Python 3 (ipykernel)",
   "language": "python",
   "name": "python3"
  },
  "language_info": {
   "codemirror_mode": {
    "name": "ipython",
    "version": 3
   },
   "file_extension": ".py",
   "mimetype": "text/x-python",
   "name": "python",
   "nbconvert_exporter": "python",
   "pygments_lexer": "ipython3",
   "version": "3.9.6"
  }
 },
 "nbformat": 4,
 "nbformat_minor": 5
}
